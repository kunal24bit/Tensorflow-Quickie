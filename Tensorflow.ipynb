{
 "cells": [
  {
   "cell_type": "code",
   "execution_count": 1,
   "id": "7a62a86f",
   "metadata": {},
   "outputs": [],
   "source": [
    "import tensorflow as tf\n",
    "import seaborn as sns"
   ]
  },
  {
   "cell_type": "code",
   "execution_count": 23,
   "id": "c158881f",
   "metadata": {},
   "outputs": [
    {
     "name": "stdout",
     "output_type": "stream",
     "text": [
      "Collecting seaborn\n",
      "  Downloading seaborn-0.11.2-py3-none-any.whl (292 kB)\n",
      "Collecting matplotlib>=2.2\n",
      "  Downloading matplotlib-3.4.3-cp39-cp39-win_amd64.whl (7.1 MB)\n",
      "Requirement already satisfied: scipy>=1.0 in c:\\users\\hp\\anaconda3\\envs\\tensorflow_env\\lib\\site-packages (from seaborn) (1.7.1)\n",
      "Requirement already satisfied: numpy>=1.15 in c:\\users\\hp\\anaconda3\\envs\\tensorflow_env\\lib\\site-packages (from seaborn) (1.19.5)\n",
      "Collecting pandas>=0.23\n",
      "  Downloading pandas-1.3.3-cp39-cp39-win_amd64.whl (10.2 MB)\n",
      "Requirement already satisfied: pyparsing>=2.2.1 in c:\\users\\hp\\anaconda3\\envs\\tensorflow_env\\lib\\site-packages (from matplotlib>=2.2->seaborn) (2.4.7)\n",
      "Collecting cycler>=0.10\n",
      "  Downloading cycler-0.10.0-py2.py3-none-any.whl (6.5 kB)\n",
      "Requirement already satisfied: python-dateutil>=2.7 in c:\\users\\hp\\anaconda3\\envs\\tensorflow_env\\lib\\site-packages (from matplotlib>=2.2->seaborn) (2.8.2)\n",
      "Collecting kiwisolver>=1.0.1\n",
      "  Downloading kiwisolver-1.3.2-cp39-cp39-win_amd64.whl (52 kB)\n",
      "Collecting pillow>=6.2.0\n",
      "  Downloading Pillow-8.3.2-cp39-cp39-win_amd64.whl (3.2 MB)\n",
      "Requirement already satisfied: six in c:\\users\\hp\\anaconda3\\envs\\tensorflow_env\\lib\\site-packages (from cycler>=0.10->matplotlib>=2.2->seaborn) (1.15.0)\n",
      "Collecting pytz>=2017.3\n",
      "  Downloading pytz-2021.1-py2.py3-none-any.whl (510 kB)\n",
      "Installing collected packages: pytz, pillow, kiwisolver, cycler, pandas, matplotlib, seaborn\n",
      "Successfully installed cycler-0.10.0 kiwisolver-1.3.2 matplotlib-3.4.3 pandas-1.3.3 pillow-8.3.2 pytz-2021.1 seaborn-0.11.2\n"
     ]
    }
   ],
   "source": [
    "!pip install seaborn"
   ]
  },
  {
   "cell_type": "code",
   "execution_count": 2,
   "id": "ae1e981e",
   "metadata": {},
   "outputs": [
    {
     "name": "stdout",
     "output_type": "stream",
     "text": [
      "Tensorflow version 2.6.0\n"
     ]
    }
   ],
   "source": [
    "print(\"Tensorflow version {}\".format(tf.__version__))"
   ]
  },
  {
   "cell_type": "code",
   "execution_count": 3,
   "id": "c775c355",
   "metadata": {},
   "outputs": [
    {
     "name": "stdout",
     "output_type": "stream",
     "text": [
      "Kears Version 2.6.0\n"
     ]
    }
   ],
   "source": [
    "print(\"Kears Version {}\".format(tf.keras.__version__))"
   ]
  },
  {
   "cell_type": "code",
   "execution_count": 4,
   "id": "77fb0f5f",
   "metadata": {},
   "outputs": [],
   "source": [
    "var = tf.Variable([3,3])"
   ]
  },
  {
   "cell_type": "code",
   "execution_count": 5,
   "id": "3909118b",
   "metadata": {},
   "outputs": [
    {
     "data": {
      "text/plain": [
       "<tf.Variable 'Variable:0' shape=(2,) dtype=int32, numpy=array([3, 3])>"
      ]
     },
     "execution_count": 5,
     "metadata": {},
     "output_type": "execute_result"
    }
   ],
   "source": [
    "var"
   ]
  },
  {
   "cell_type": "code",
   "execution_count": 6,
   "id": "d4800814",
   "metadata": {},
   "outputs": [
    {
     "data": {
      "text/plain": [
       "tensorflow.python.ops.resource_variable_ops.ResourceVariable"
      ]
     },
     "execution_count": 6,
     "metadata": {},
     "output_type": "execute_result"
    }
   ],
   "source": [
    "type(var)"
   ]
  },
  {
   "cell_type": "code",
   "execution_count": 7,
   "id": "f8ef3ffa",
   "metadata": {},
   "outputs": [
    {
     "name": "stdout",
     "output_type": "stream",
     "text": [
      "WARNING:tensorflow:From C:\\Users\\Hp\\AppData\\Local\\Temp/ipykernel_11120/2457577972.py:1: is_gpu_available (from tensorflow.python.framework.test_util) is deprecated and will be removed in a future version.\n",
      "Instructions for updating:\n",
      "Use `tf.config.list_physical_devices('GPU')` instead.\n",
      "CPU\n"
     ]
    }
   ],
   "source": [
    "if tf.test.is_gpu_available():\n",
    "  print(\"GPU\")\n",
    "  print(var.device.endswith(\"GPU:0\"))\n",
    "else:\n",
    "  print(\"CPU\")"
   ]
  },
  {
   "cell_type": "markdown",
   "id": "3ac878f7",
   "metadata": {},
   "source": [
    "# Tensor Constant"
   ]
  },
  {
   "cell_type": "code",
   "execution_count": 8,
   "id": "6803123d",
   "metadata": {},
   "outputs": [],
   "source": [
    "inew = tf.constant(42)"
   ]
  },
  {
   "cell_type": "code",
   "execution_count": 9,
   "id": "81463b83",
   "metadata": {},
   "outputs": [
    {
     "data": {
      "text/plain": [
       "<tf.Tensor: shape=(), dtype=int32, numpy=42>"
      ]
     },
     "execution_count": 9,
     "metadata": {},
     "output_type": "execute_result"
    }
   ],
   "source": [
    "inew"
   ]
  },
  {
   "cell_type": "code",
   "execution_count": 10,
   "id": "7c88df39",
   "metadata": {},
   "outputs": [
    {
     "data": {
      "text/plain": [
       "42"
      ]
     },
     "execution_count": 10,
     "metadata": {},
     "output_type": "execute_result"
    }
   ],
   "source": [
    "inew.numpy()"
   ]
  },
  {
   "cell_type": "code",
   "execution_count": 11,
   "id": "f0ab782d",
   "metadata": {},
   "outputs": [
    {
     "data": {
      "text/plain": [
       "tf.int32"
      ]
     },
     "execution_count": 11,
     "metadata": {},
     "output_type": "execute_result"
    }
   ],
   "source": [
    "inew.dtype"
   ]
  },
  {
   "cell_type": "code",
   "execution_count": 12,
   "id": "20ae91f8",
   "metadata": {},
   "outputs": [],
   "source": [
    "inew_x = tf.constant([[2,3], [4,6]], dtype = tf.int32)"
   ]
  },
  {
   "cell_type": "code",
   "execution_count": 13,
   "id": "7a3c0737",
   "metadata": {},
   "outputs": [
    {
     "data": {
      "text/plain": [
       "<tf.Tensor: shape=(2, 2), dtype=int32, numpy=\n",
       "array([[2, 3],\n",
       "       [4, 6]])>"
      ]
     },
     "execution_count": 13,
     "metadata": {},
     "output_type": "execute_result"
    }
   ],
   "source": [
    "inew_x"
   ]
  },
  {
   "cell_type": "code",
   "execution_count": 14,
   "id": "d099da67",
   "metadata": {},
   "outputs": [
    {
     "data": {
      "text/plain": [
       "array([[2, 3],\n",
       "       [4, 6]])"
      ]
     },
     "execution_count": 14,
     "metadata": {},
     "output_type": "execute_result"
    }
   ],
   "source": [
    "inew_x.numpy()"
   ]
  },
  {
   "cell_type": "code",
   "execution_count": 15,
   "id": "2f22d6b2",
   "metadata": {},
   "outputs": [
    {
     "name": "stdout",
     "output_type": "stream",
     "text": [
      "[2 3]\n",
      "[4 6]\n",
      "2\n",
      "3\n",
      "4\n",
      "6\n"
     ]
    }
   ],
   "source": [
    "print(inew_x.numpy()[0])\n",
    "print(inew_x.numpy()[1])\n",
    "print(inew_x.numpy()[0][0])\n",
    "print(inew_x.numpy()[0][1])\n",
    "print(inew_x.numpy()[1][0])\n",
    "print(inew_x.numpy()[1][1])"
   ]
  },
  {
   "cell_type": "code",
   "execution_count": 16,
   "id": "5f816b61",
   "metadata": {},
   "outputs": [],
   "source": [
    "inew_x1 = tf.ones((3,3), dtype = tf.int32)"
   ]
  },
  {
   "cell_type": "code",
   "execution_count": 17,
   "id": "6b51ef43",
   "metadata": {},
   "outputs": [
    {
     "data": {
      "text/plain": [
       "<tf.Tensor: shape=(3, 3), dtype=int32, numpy=\n",
       "array([[1, 1, 1],\n",
       "       [1, 1, 1],\n",
       "       [1, 1, 1]])>"
      ]
     },
     "execution_count": 17,
     "metadata": {},
     "output_type": "execute_result"
    }
   ],
   "source": [
    "inew_x1"
   ]
  },
  {
   "cell_type": "markdown",
   "id": "be83ed65",
   "metadata": {},
   "source": [
    "# Random Constant"
   ]
  },
  {
   "cell_type": "code",
   "execution_count": 18,
   "id": "d5f9d710",
   "metadata": {},
   "outputs": [
    {
     "data": {
      "text/plain": [
       "<tf.Tensor: shape=(2, 2), dtype=float32, numpy=\n",
       "array([[ 0.8934646 , -0.30933866],\n",
       "       [-0.8964834 , -2.1201406 ]], dtype=float32)>"
      ]
     },
     "execution_count": 18,
     "metadata": {},
     "output_type": "execute_result"
    }
   ],
   "source": [
    "tf.random.normal(shape = (2,2))"
   ]
  },
  {
   "cell_type": "code",
   "execution_count": 19,
   "id": "9542b441",
   "metadata": {},
   "outputs": [
    {
     "name": "stderr",
     "output_type": "stream",
     "text": [
      "C:\\Users\\Hp\\anaconda3\\envs\\tensorflow_env\\lib\\site-packages\\seaborn\\distributions.py:2619: FutureWarning: `distplot` is a deprecated function and will be removed in a future version. Please adapt your code to use either `displot` (a figure-level function with similar flexibility) or `histplot` (an axes-level function for histograms).\n",
      "  warnings.warn(msg, FutureWarning)\n"
     ]
    },
    {
     "data": {
      "text/plain": [
       "<AxesSubplot:ylabel='Density'>"
      ]
     },
     "execution_count": 19,
     "metadata": {},
     "output_type": "execute_result"
    },
    {
     "data": {
      "image/png": "[encoded data removed]",
      "text/plain": [
       "<Figure size 432x288 with 1 Axes>"
      ]
     },
     "metadata": {
      "needs_background": "light"
     },
     "output_type": "display_data"
    }
   ],
   "source": [
    "sns.distplot(tf.random.normal(shape = (27,27)))"
   ]
  },
  {
   "cell_type": "code",
   "execution_count": 20,
   "id": "ee2efd80",
   "metadata": {},
   "outputs": [
    {
     "data": {
      "text/plain": [
       "<tf.Tensor: shape=(3, 3), dtype=float32, numpy=\n",
       "array([[0.00251424, 0.8309642 , 0.8331952 ],\n",
       "       [0.13998675, 0.21504533, 0.8391651 ],\n",
       "       [0.4440657 , 0.85208786, 0.5744426 ]], dtype=float32)>"
      ]
     },
     "execution_count": 20,
     "metadata": {},
     "output_type": "execute_result"
    }
   ],
   "source": [
    "tf.random.uniform(shape = (3,3))"
   ]
  },
  {
   "cell_type": "code",
   "execution_count": 21,
   "id": "4481ce69",
   "metadata": {},
   "outputs": [
    {
     "name": "stderr",
     "output_type": "stream",
     "text": [
      "C:\\Users\\Hp\\anaconda3\\envs\\tensorflow_env\\lib\\site-packages\\seaborn\\distributions.py:2619: FutureWarning: `distplot` is a deprecated function and will be removed in a future version. Please adapt your code to use either `displot` (a figure-level function with similar flexibility) or `histplot` (an axes-level function for histograms).\n",
      "  warnings.warn(msg, FutureWarning)\n"
     ]
    },
    {
     "data": {
      "text/plain": [
       "<AxesSubplot:ylabel='Density'>"
      ]
     },
     "execution_count": 21,
     "metadata": {},
     "output_type": "execute_result"
    },
    {
     "data": {
      "image/png": "[encoded data removed]",
      "text/plain": [
       "<Figure size 432x288 with 1 Axes>"
      ]
     },
     "metadata": {
      "needs_background": "light"
     },
     "output_type": "display_data"
    }
   ],
   "source": [
    "sns.distplot(tf.random.uniform(shape = (3,3)))"
   ]
  },
  {
   "cell_type": "markdown",
   "id": "df7d1872",
   "metadata": {},
   "source": [
    "# Variables"
   ]
  },
  {
   "cell_type": "code",
   "execution_count": 22,
   "id": "551ffe0b",
   "metadata": {},
   "outputs": [],
   "source": [
    "var0 = 24\n",
    "var1 = tf.Variable([42])\n",
    "var2 = tf.Variable([[1,2], [3,4]])\n",
    "var3 = tf.Variable([ [ [1,2,3,], [2,3,4] ], [[1,2,3], [2,3,4]] ])"
   ]
  },
  {
   "cell_type": "code",
   "execution_count": 23,
   "id": "698beb59",
   "metadata": {},
   "outputs": [
    {
     "name": "stdout",
     "output_type": "stream",
     "text": [
      "24\n",
      "<tf.Variable 'Variable:0' shape=(1,) dtype=int32, numpy=array([42])>\n",
      "<tf.Variable 'Variable:0' shape=(2, 2) dtype=int32, numpy=\n",
      "array([[1, 2],\n",
      "       [3, 4]])>\n",
      "<tf.Variable 'Variable:0' shape=(2, 2, 3) dtype=int32, numpy=\n",
      "array([[[1, 2, 3],\n",
      "        [2, 3, 4]],\n",
      "\n",
      "       [[1, 2, 3],\n",
      "        [2, 3, 4]]])>\n"
     ]
    }
   ],
   "source": [
    "print(var0)\n",
    "print(var1)\n",
    "print(var2)\n",
    "print(var3)\n"
   ]
  },
  {
   "cell_type": "code",
   "execution_count": 24,
   "id": "1147ba3a",
   "metadata": {},
   "outputs": [
    {
     "name": "stdout",
     "output_type": "stream",
     "text": [
      "tf.Tensor(0, shape=(), dtype=int32)\n",
      "tf.Tensor(1, shape=(), dtype=int32)\n",
      "tf.Tensor(2, shape=(), dtype=int32)\n",
      "tf.Tensor(3, shape=(), dtype=int32)\n"
     ]
    }
   ],
   "source": [
    "print(tf.rank(var0))\n",
    "print(tf.rank(var1))\n",
    "print(tf.rank(var2))\n",
    "print(tf.rank(var3))"
   ]
  },
  {
   "cell_type": "markdown",
   "id": "a9b3187b",
   "metadata": {},
   "source": [
    "# The data type can be explicitly specified."
   ]
  },
  {
   "cell_type": "code",
   "execution_count": 25,
   "id": "7b843f14",
   "metadata": {},
   "outputs": [],
   "source": [
    "float_var = tf.Variable(34, dtype = tf.float64)"
   ]
  },
  {
   "cell_type": "code",
   "execution_count": 26,
   "id": "5776c083",
   "metadata": {},
   "outputs": [
    {
     "data": {
      "text/plain": [
       "tf.float64"
      ]
     },
     "execution_count": 26,
     "metadata": {},
     "output_type": "execute_result"
    }
   ],
   "source": [
    "float_var.dtype"
   ]
  },
  {
   "cell_type": "markdown",
   "id": "9de27e76",
   "metadata": {},
   "source": [
    "# Tensorflow has large number of built in data types.\n",
    "\n",
    "1. tf.int32\n",
    "2. tf.int64\n",
    "3. tf.int16\n",
    "4. tf.uint32\n",
    "5. tf.uint64\n",
    "6. tf.float64\n",
    "7. tf.float32\n",
    "8. tf.complex64\n",
    "9. tf.complex128\n",
    "10. tf.unit8\n",
    "11. tf.bool\n",
    "12. tf.string\n",
    "\n",
    "\n"
   ]
  },
  {
   "cell_type": "markdown",
   "id": "c2006336",
   "metadata": {},
   "source": [
    "# To reassign a variable use var.assign"
   ]
  },
  {
   "cell_type": "code",
   "execution_count": 27,
   "id": "49f1d41f",
   "metadata": {},
   "outputs": [],
   "source": [
    "var_reassign = tf.Variable(89.)"
   ]
  },
  {
   "cell_type": "code",
   "execution_count": 28,
   "id": "d1f8514e",
   "metadata": {},
   "outputs": [
    {
     "data": {
      "text/plain": [
       "<tf.Variable 'Variable:0' shape=() dtype=float32, numpy=89.0>"
      ]
     },
     "execution_count": 28,
     "metadata": {},
     "output_type": "execute_result"
    }
   ],
   "source": [
    "var_reassign"
   ]
  },
  {
   "cell_type": "code",
   "execution_count": 29,
   "id": "9b27dee0",
   "metadata": {},
   "outputs": [
    {
     "data": {
      "text/plain": [
       "<tf.Variable 'UnreadVariable' shape=() dtype=float32, numpy=98.0>"
      ]
     },
     "execution_count": 29,
     "metadata": {},
     "output_type": "execute_result"
    }
   ],
   "source": [
    "var_reassign.assign(98.)"
   ]
  },
  {
   "cell_type": "code",
   "execution_count": 30,
   "id": "218592d0",
   "metadata": {},
   "outputs": [
    {
     "ename": "ValueError",
     "evalue": "Incompatible type conversion requested to type 'float32' for variable of type 'int32'",
     "output_type": "error",
     "traceback": [
      "\u001b[1;31m---------------------------------------------------------------------------\u001b[0m",
      "\u001b[1;31mValueError\u001b[0m                                Traceback (most recent call last)",
      "\u001b[1;32m~\\AppData\\Local\\Temp/ipykernel_11120/2372981612.py\u001b[0m in \u001b[0;36m<module>\u001b[1;34m\u001b[0m\n\u001b[0;32m      1\u001b[0m \u001b[0mvar5\u001b[0m \u001b[1;33m=\u001b[0m \u001b[0mtf\u001b[0m\u001b[1;33m.\u001b[0m\u001b[0mVariable\u001b[0m\u001b[1;33m(\u001b[0m\u001b[1;36m34\u001b[0m\u001b[1;33m,\u001b[0m \u001b[0mdtype\u001b[0m \u001b[1;33m=\u001b[0m \u001b[0mtf\u001b[0m\u001b[1;33m.\u001b[0m\u001b[0mint32\u001b[0m\u001b[1;33m)\u001b[0m\u001b[1;33m\u001b[0m\u001b[1;33m\u001b[0m\u001b[0m\n\u001b[1;32m----> 2\u001b[1;33m \u001b[0mvar_reassign\u001b[0m\u001b[1;33m.\u001b[0m\u001b[0massign\u001b[0m\u001b[1;33m(\u001b[0m\u001b[0mvar5\u001b[0m\u001b[1;33m)\u001b[0m\u001b[1;33m\u001b[0m\u001b[1;33m\u001b[0m\u001b[0m\n\u001b[0m",
      "\u001b[1;32m~\\anaconda3\\envs\\tensorflow_env\\lib\\site-packages\\tensorflow\\python\\ops\\resource_variable_ops.py\u001b[0m in \u001b[0;36massign\u001b[1;34m(self, value, use_locking, name, read_value)\u001b[0m\n\u001b[0;32m    891\u001b[0m     \u001b[1;31m# initialize the variable.\u001b[0m\u001b[1;33m\u001b[0m\u001b[1;33m\u001b[0m\u001b[1;33m\u001b[0m\u001b[0m\n\u001b[0;32m    892\u001b[0m     \u001b[1;32mwith\u001b[0m \u001b[0m_handle_graph\u001b[0m\u001b[1;33m(\u001b[0m\u001b[0mself\u001b[0m\u001b[1;33m.\u001b[0m\u001b[0mhandle\u001b[0m\u001b[1;33m)\u001b[0m\u001b[1;33m:\u001b[0m\u001b[1;33m\u001b[0m\u001b[1;33m\u001b[0m\u001b[0m\n\u001b[1;32m--> 893\u001b[1;33m       \u001b[0mvalue_tensor\u001b[0m \u001b[1;33m=\u001b[0m \u001b[0mops\u001b[0m\u001b[1;33m.\u001b[0m\u001b[0mconvert_to_tensor\u001b[0m\u001b[1;33m(\u001b[0m\u001b[0mvalue\u001b[0m\u001b[1;33m,\u001b[0m \u001b[0mdtype\u001b[0m\u001b[1;33m=\u001b[0m\u001b[0mself\u001b[0m\u001b[1;33m.\u001b[0m\u001b[0mdtype\u001b[0m\u001b[1;33m)\u001b[0m\u001b[1;33m\u001b[0m\u001b[1;33m\u001b[0m\u001b[0m\n\u001b[0m\u001b[0;32m    894\u001b[0m       \u001b[1;32mif\u001b[0m \u001b[1;32mnot\u001b[0m \u001b[0mself\u001b[0m\u001b[1;33m.\u001b[0m\u001b[0m_shape\u001b[0m\u001b[1;33m.\u001b[0m\u001b[0mis_compatible_with\u001b[0m\u001b[1;33m(\u001b[0m\u001b[0mvalue_tensor\u001b[0m\u001b[1;33m.\u001b[0m\u001b[0mshape\u001b[0m\u001b[1;33m)\u001b[0m\u001b[1;33m:\u001b[0m\u001b[1;33m\u001b[0m\u001b[1;33m\u001b[0m\u001b[0m\n\u001b[0;32m    895\u001b[0m         \u001b[1;32mif\u001b[0m \u001b[0mself\u001b[0m\u001b[1;33m.\u001b[0m\u001b[0mname\u001b[0m \u001b[1;32mis\u001b[0m \u001b[1;32mNone\u001b[0m\u001b[1;33m:\u001b[0m\u001b[1;33m\u001b[0m\u001b[1;33m\u001b[0m\u001b[0m\n",
      "\u001b[1;32m~\\anaconda3\\envs\\tensorflow_env\\lib\\site-packages\\tensorflow\\python\\profiler\\trace.py\u001b[0m in \u001b[0;36mwrapped\u001b[1;34m(*args, **kwargs)\u001b[0m\n\u001b[0;32m    161\u001b[0m         \u001b[1;32mwith\u001b[0m \u001b[0mTrace\u001b[0m\u001b[1;33m(\u001b[0m\u001b[0mtrace_name\u001b[0m\u001b[1;33m,\u001b[0m \u001b[1;33m**\u001b[0m\u001b[0mtrace_kwargs\u001b[0m\u001b[1;33m)\u001b[0m\u001b[1;33m:\u001b[0m\u001b[1;33m\u001b[0m\u001b[1;33m\u001b[0m\u001b[0m\n\u001b[0;32m    162\u001b[0m           \u001b[1;32mreturn\u001b[0m \u001b[0mfunc\u001b[0m\u001b[1;33m(\u001b[0m\u001b[1;33m*\u001b[0m\u001b[0margs\u001b[0m\u001b[1;33m,\u001b[0m \u001b[1;33m**\u001b[0m\u001b[0mkwargs\u001b[0m\u001b[1;33m)\u001b[0m\u001b[1;33m\u001b[0m\u001b[1;33m\u001b[0m\u001b[0m\n\u001b[1;32m--> 163\u001b[1;33m       \u001b[1;32mreturn\u001b[0m \u001b[0mfunc\u001b[0m\u001b[1;33m(\u001b[0m\u001b[1;33m*\u001b[0m\u001b[0margs\u001b[0m\u001b[1;33m,\u001b[0m \u001b[1;33m**\u001b[0m\u001b[0mkwargs\u001b[0m\u001b[1;33m)\u001b[0m\u001b[1;33m\u001b[0m\u001b[1;33m\u001b[0m\u001b[0m\n\u001b[0m\u001b[0;32m    164\u001b[0m \u001b[1;33m\u001b[0m\u001b[0m\n\u001b[0;32m    165\u001b[0m     \u001b[1;32mreturn\u001b[0m \u001b[0mwrapped\u001b[0m\u001b[1;33m\u001b[0m\u001b[1;33m\u001b[0m\u001b[0m\n",
      "\u001b[1;32m~\\anaconda3\\envs\\tensorflow_env\\lib\\site-packages\\tensorflow\\python\\framework\\ops.py\u001b[0m in \u001b[0;36mconvert_to_tensor\u001b[1;34m(value, dtype, name, as_ref, preferred_dtype, dtype_hint, ctx, accepted_result_types)\u001b[0m\n\u001b[0;32m   1564\u001b[0m \u001b[1;33m\u001b[0m\u001b[0m\n\u001b[0;32m   1565\u001b[0m     \u001b[1;32mif\u001b[0m \u001b[0mret\u001b[0m \u001b[1;32mis\u001b[0m \u001b[1;32mNone\u001b[0m\u001b[1;33m:\u001b[0m\u001b[1;33m\u001b[0m\u001b[1;33m\u001b[0m\u001b[0m\n\u001b[1;32m-> 1566\u001b[1;33m       \u001b[0mret\u001b[0m \u001b[1;33m=\u001b[0m \u001b[0mconversion_func\u001b[0m\u001b[1;33m(\u001b[0m\u001b[0mvalue\u001b[0m\u001b[1;33m,\u001b[0m \u001b[0mdtype\u001b[0m\u001b[1;33m=\u001b[0m\u001b[0mdtype\u001b[0m\u001b[1;33m,\u001b[0m \u001b[0mname\u001b[0m\u001b[1;33m=\u001b[0m\u001b[0mname\u001b[0m\u001b[1;33m,\u001b[0m \u001b[0mas_ref\u001b[0m\u001b[1;33m=\u001b[0m\u001b[0mas_ref\u001b[0m\u001b[1;33m)\u001b[0m\u001b[1;33m\u001b[0m\u001b[1;33m\u001b[0m\u001b[0m\n\u001b[0m\u001b[0;32m   1567\u001b[0m \u001b[1;33m\u001b[0m\u001b[0m\n\u001b[0;32m   1568\u001b[0m     \u001b[1;32mif\u001b[0m \u001b[0mret\u001b[0m \u001b[1;32mis\u001b[0m \u001b[0mNotImplemented\u001b[0m\u001b[1;33m:\u001b[0m\u001b[1;33m\u001b[0m\u001b[1;33m\u001b[0m\u001b[0m\n",
      "\u001b[1;32m~\\anaconda3\\envs\\tensorflow_env\\lib\\site-packages\\tensorflow\\python\\ops\\resource_variable_ops.py\u001b[0m in \u001b[0;36m_dense_var_to_tensor\u001b[1;34m(var, dtype, name, as_ref)\u001b[0m\n\u001b[0;32m   2021\u001b[0m \u001b[1;33m\u001b[0m\u001b[0m\n\u001b[0;32m   2022\u001b[0m \u001b[1;32mdef\u001b[0m \u001b[0m_dense_var_to_tensor\u001b[0m\u001b[1;33m(\u001b[0m\u001b[0mvar\u001b[0m\u001b[1;33m,\u001b[0m \u001b[0mdtype\u001b[0m\u001b[1;33m=\u001b[0m\u001b[1;32mNone\u001b[0m\u001b[1;33m,\u001b[0m \u001b[0mname\u001b[0m\u001b[1;33m=\u001b[0m\u001b[1;32mNone\u001b[0m\u001b[1;33m,\u001b[0m \u001b[0mas_ref\u001b[0m\u001b[1;33m=\u001b[0m\u001b[1;32mFalse\u001b[0m\u001b[1;33m)\u001b[0m\u001b[1;33m:\u001b[0m\u001b[1;33m\u001b[0m\u001b[1;33m\u001b[0m\u001b[0m\n\u001b[1;32m-> 2023\u001b[1;33m   \u001b[1;32mreturn\u001b[0m \u001b[0mvar\u001b[0m\u001b[1;33m.\u001b[0m\u001b[0m_dense_var_to_tensor\u001b[0m\u001b[1;33m(\u001b[0m\u001b[0mdtype\u001b[0m\u001b[1;33m=\u001b[0m\u001b[0mdtype\u001b[0m\u001b[1;33m,\u001b[0m \u001b[0mname\u001b[0m\u001b[1;33m=\u001b[0m\u001b[0mname\u001b[0m\u001b[1;33m,\u001b[0m \u001b[0mas_ref\u001b[0m\u001b[1;33m=\u001b[0m\u001b[0mas_ref\u001b[0m\u001b[1;33m)\u001b[0m  \u001b[1;31m# pylint: disable=protected-access\u001b[0m\u001b[1;33m\u001b[0m\u001b[1;33m\u001b[0m\u001b[0m\n\u001b[0m\u001b[0;32m   2024\u001b[0m \u001b[1;33m\u001b[0m\u001b[0m\n\u001b[0;32m   2025\u001b[0m \u001b[1;33m\u001b[0m\u001b[0m\n",
      "\u001b[1;32m~\\anaconda3\\envs\\tensorflow_env\\lib\\site-packages\\tensorflow\\python\\ops\\resource_variable_ops.py\u001b[0m in \u001b[0;36m_dense_var_to_tensor\u001b[1;34m(***failed resolving arguments***)\u001b[0m\n\u001b[0;32m   1413\u001b[0m     \u001b[1;32mdel\u001b[0m \u001b[0mname\u001b[0m\u001b[1;33m\u001b[0m\u001b[1;33m\u001b[0m\u001b[0m\n\u001b[0;32m   1414\u001b[0m     \u001b[1;32mif\u001b[0m \u001b[0mdtype\u001b[0m \u001b[1;32mis\u001b[0m \u001b[1;32mnot\u001b[0m \u001b[1;32mNone\u001b[0m \u001b[1;32mand\u001b[0m \u001b[1;32mnot\u001b[0m \u001b[0mdtype\u001b[0m\u001b[1;33m.\u001b[0m\u001b[0mis_compatible_with\u001b[0m\u001b[1;33m(\u001b[0m\u001b[0mself\u001b[0m\u001b[1;33m.\u001b[0m\u001b[0mdtype\u001b[0m\u001b[1;33m)\u001b[0m\u001b[1;33m:\u001b[0m\u001b[1;33m\u001b[0m\u001b[1;33m\u001b[0m\u001b[0m\n\u001b[1;32m-> 1415\u001b[1;33m       raise ValueError(\n\u001b[0m\u001b[0;32m   1416\u001b[0m           \u001b[1;34m\"Incompatible type conversion requested to type {!r} for variable \"\u001b[0m\u001b[1;33m\u001b[0m\u001b[1;33m\u001b[0m\u001b[0m\n\u001b[0;32m   1417\u001b[0m           \"of type {!r}\".format(dtype.name, self.dtype.name))\n",
      "\u001b[1;31mValueError\u001b[0m: Incompatible type conversion requested to type 'float32' for variable of type 'int32'"
     ]
    }
   ],
   "source": [
    "var5 = tf.Variable(34, dtype = tf.int32)\n",
    "var_reassign.assign(var5)"
   ]
  },
  {
   "cell_type": "markdown",
   "id": "610a2c3c",
   "metadata": {},
   "source": [
    "# To reassign some value to a variable their data type should be same."
   ]
  },
  {
   "cell_type": "code",
   "execution_count": 32,
   "id": "111e9e53",
   "metadata": {},
   "outputs": [
    {
     "data": {
      "text/plain": [
       "<tf.Variable 'UnreadVariable' shape=() dtype=float32, numpy=98.0>"
      ]
     },
     "execution_count": 32,
     "metadata": {},
     "output_type": "execute_result"
    }
   ],
   "source": [
    "var_reassign.assign(98.)"
   ]
  },
  {
   "cell_type": "code",
   "execution_count": 33,
   "id": "43040ec3",
   "metadata": {},
   "outputs": [],
   "source": [
    "initial_value = tf.random.normal(shape = (2,2))\n",
    "\n",
    "a = tf.Variable(initial_value)"
   ]
  },
  {
   "cell_type": "code",
   "execution_count": 34,
   "id": "53fe7219",
   "metadata": {},
   "outputs": [
    {
     "data": {
      "text/plain": [
       "<tf.Variable 'Variable:0' shape=(2, 2) dtype=float32, numpy=\n",
       "array([[-1.5593799 ,  0.5320634 ],\n",
       "       [ 1.0816818 ,  0.47698066]], dtype=float32)>"
      ]
     },
     "execution_count": 34,
     "metadata": {},
     "output_type": "execute_result"
    }
   ],
   "source": [
    "a"
   ]
  },
  {
   "cell_type": "code",
   "execution_count": 35,
   "id": "3d721e88",
   "metadata": {},
   "outputs": [
    {
     "name": "stdout",
     "output_type": "stream",
     "text": [
      "tf.Tensor(1.986649, shape=(), dtype=float32) tf.Tensor(1.986649, shape=(), dtype=float32)\n",
      "tf.Tensor(0.59450835, shape=(), dtype=float32) tf.Tensor(0.59450835, shape=(), dtype=float32)\n",
      "tf.Tensor(0.29847383, shape=(), dtype=float32) tf.Tensor(0.29847383, shape=(), dtype=float32)\n",
      "tf.Tensor(0.35610065, shape=(), dtype=float32) tf.Tensor(0.35610065, shape=(), dtype=float32)\n"
     ]
    }
   ],
   "source": [
    "new_value = tf.random.normal(shape = (2,2))\n",
    "a.assign(new_value)\n",
    "for i in range(2):\n",
    "    for j in range(2):\n",
    "        assert a[i, j] == new_value[i, j] \n",
    "        print(a[i, j], new_value[i, j])"
   ]
  },
  {
   "cell_type": "markdown",
   "id": "7ee251be",
   "metadata": {},
   "source": [
    "# Shaping a Tensor"
   ]
  },
  {
   "cell_type": "code",
   "execution_count": 36,
   "id": "a1b6adee",
   "metadata": {},
   "outputs": [],
   "source": [
    "tensor = tf.Variable([ [ [1,2,3], [2,3,4] ], [ [2,3,4], [3,4,5] ] ])"
   ]
  },
  {
   "cell_type": "code",
   "execution_count": 37,
   "id": "bd63d734",
   "metadata": {},
   "outputs": [
    {
     "data": {
      "text/plain": [
       "<tf.Variable 'Variable:0' shape=(2, 2, 3) dtype=int32, numpy=\n",
       "array([[[1, 2, 3],\n",
       "        [2, 3, 4]],\n",
       "\n",
       "       [[2, 3, 4],\n",
       "        [3, 4, 5]]])>"
      ]
     },
     "execution_count": 37,
     "metadata": {},
     "output_type": "execute_result"
    }
   ],
   "source": [
    "tensor"
   ]
  },
  {
   "cell_type": "code",
   "execution_count": 38,
   "id": "88f39f7e",
   "metadata": {},
   "outputs": [
    {
     "data": {
      "text/plain": [
       "<tf.Tensor: shape=(), dtype=int32, numpy=3>"
      ]
     },
     "execution_count": 38,
     "metadata": {},
     "output_type": "execute_result"
    }
   ],
   "source": [
    "tf.rank(tensor)"
   ]
  },
  {
   "cell_type": "code",
   "execution_count": 39,
   "id": "0ca157e4",
   "metadata": {},
   "outputs": [
    {
     "data": {
      "text/plain": [
       "<tf.Tensor: shape=(2, 6), dtype=int32, numpy=\n",
       "array([[1, 2, 3, 2, 3, 4],\n",
       "       [2, 3, 4, 3, 4, 5]])>"
      ]
     },
     "execution_count": 39,
     "metadata": {},
     "output_type": "execute_result"
    }
   ],
   "source": [
    "#Tensor can be reshaped and retain the same values which is required for constructing neural networks.\n",
    "tensor1 = tf.reshape(tensor, [2,6])\n",
    "tensor1"
   ]
  },
  {
   "cell_type": "code",
   "execution_count": 40,
   "id": "4a574fa4",
   "metadata": {},
   "outputs": [
    {
     "data": {
      "text/plain": [
       "<tf.Tensor: shape=(1, 12), dtype=int32, numpy=array([[1, 2, 3, 2, 3, 4, 2, 3, 4, 3, 4, 5]])>"
      ]
     },
     "execution_count": 40,
     "metadata": {},
     "output_type": "execute_result"
    }
   ],
   "source": [
    "tensor2 = tf.reshape(tensor, [1, 12])\n",
    "tensor2"
   ]
  },
  {
   "cell_type": "markdown",
   "id": "b612379f",
   "metadata": {},
   "source": [
    "# Rank of a tensor\n",
    "\n",
    "Rank of a tensor is defined as the number of dimensions, which is the Number of indices that are required to specify any particular element."
   ]
  },
  {
   "cell_type": "code",
   "execution_count": 41,
   "id": "e3e89a4a",
   "metadata": {},
   "outputs": [
    {
     "data": {
      "text/plain": [
       "<tf.Tensor: shape=(), dtype=int32, numpy=2>"
      ]
     },
     "execution_count": 41,
     "metadata": {},
     "output_type": "execute_result"
    }
   ],
   "source": [
    "tf.rank(tensor1) #the shape is () because the output is a scalar value"
   ]
  },
  {
   "cell_type": "code",
   "execution_count": 42,
   "id": "f1992292",
   "metadata": {},
   "outputs": [
    {
     "data": {
      "text/plain": [
       "<tf.Tensor: shape=(), dtype=int32, numpy=2>"
      ]
     },
     "execution_count": 42,
     "metadata": {},
     "output_type": "execute_result"
    }
   ],
   "source": [
    "tf.rank(tensor2)"
   ]
  },
  {
   "cell_type": "markdown",
   "id": "4132ddad",
   "metadata": {},
   "source": [
    "# Specifying an element of a tensor"
   ]
  },
  {
   "cell_type": "code",
   "execution_count": 43,
   "id": "166f0f59",
   "metadata": {},
   "outputs": [
    {
     "data": {
      "text/plain": [
       "(<tf.Tensor: shape=(), dtype=int32, numpy=4>,)"
      ]
     },
     "execution_count": 43,
     "metadata": {},
     "output_type": "execute_result"
    }
   ],
   "source": [
    "tensor[1,0,2],# slice 1, row 0, column 2"
   ]
  },
  {
   "cell_type": "markdown",
   "id": "9e9ab0e9",
   "metadata": {},
   "source": [
    "# Casting a tensor to numpy variable"
   ]
  },
  {
   "cell_type": "code",
   "execution_count": 44,
   "id": "c82a0d39",
   "metadata": {},
   "outputs": [
    {
     "name": "stdout",
     "output_type": "stream",
     "text": [
      "[[[1 2 3]\n",
      "  [2 3 4]]\n",
      "\n",
      " [[2 3 4]\n",
      "  [3 4 5]]]\n"
     ]
    }
   ],
   "source": [
    "print(tensor.numpy())"
   ]
  },
  {
   "cell_type": "code",
   "execution_count": 45,
   "id": "4921b2d2",
   "metadata": {},
   "outputs": [
    {
     "name": "stdout",
     "output_type": "stream",
     "text": [
      "4\n"
     ]
    }
   ],
   "source": [
    "print(tensor[1,0,2].numpy())"
   ]
  },
  {
   "cell_type": "markdown",
   "id": "db0bbc32",
   "metadata": {},
   "source": [
    "# Finding the size or length of tensor"
   ]
  },
  {
   "cell_type": "code",
   "execution_count": 46,
   "id": "e8930a57",
   "metadata": {},
   "outputs": [],
   "source": [
    "tensor_size = tf.size(input = tensor).numpy()"
   ]
  },
  {
   "cell_type": "code",
   "execution_count": 47,
   "id": "6cd8b894",
   "metadata": {},
   "outputs": [
    {
     "data": {
      "text/plain": [
       "12"
      ]
     },
     "execution_count": 47,
     "metadata": {},
     "output_type": "execute_result"
    }
   ],
   "source": [
    "tensor_size"
   ]
  },
  {
   "cell_type": "markdown",
   "id": "11c07bb5",
   "metadata": {},
   "source": [
    "# Mathematical operations"
   ]
  },
  {
   "cell_type": "code",
   "execution_count": 48,
   "id": "fa93e6a0",
   "metadata": {},
   "outputs": [
    {
     "name": "stdout",
     "output_type": "stream",
     "text": [
      "tf.Tensor(\n",
      "[[-0.704555   -0.25243267]\n",
      " [-0.5647156   0.26460522]], shape=(2, 2), dtype=float32)\n",
      "tf.Tensor(\n",
      "[[ 0.25793537  0.8841951 ]\n",
      " [ 0.9301803  -1.3429565 ]], shape=(2, 2), dtype=float32)\n",
      "tf.Tensor(\n",
      "[[-0.4466196  0.6317624]\n",
      " [ 0.3654647 -1.0783513]], shape=(2, 2), dtype=float32)\n",
      "tf.Tensor(\n",
      "[[0.49432853 0.77690846]\n",
      " [0.5685218  1.3029165 ]], shape=(2, 2), dtype=float32)\n",
      "tf.Tensor(\n",
      "[[0.06653066 0.781801  ]\n",
      " [0.8652354  1.8035322 ]], shape=(2, 2), dtype=float32)\n"
     ]
    }
   ],
   "source": [
    "a = tf.random.normal(shape = (2,2))\n",
    "b = tf.random.normal(shape = (2,2))\n",
    "c = tf.add(a, b)\n",
    "d = tf.exp(a)\n",
    "e = tf.square(b)\n",
    "print(a)\n",
    "print(b)\n",
    "print(c)\n",
    "print(d)\n",
    "print(e)"
   ]
  },
  {
   "cell_type": "markdown",
   "id": "6059b22f",
   "metadata": {},
   "source": [
    "# Broadcasting in tensorflow"
   ]
  },
  {
   "cell_type": "code",
   "execution_count": 49,
   "id": "a3c47f8e",
   "metadata": {},
   "outputs": [
    {
     "name": "stdout",
     "output_type": "stream",
     "text": [
      "tf.Tensor([3 4 5], shape=(3,), dtype=int32)\n"
     ]
    }
   ],
   "source": [
    "a = tf.constant(1)\n",
    "b = tf.constant([2,3,4])\n",
    "c = tf.add(a,b)\n",
    "print(c)"
   ]
  },
  {
   "cell_type": "code",
   "execution_count": 50,
   "id": "a3160e7d",
   "metadata": {},
   "outputs": [
    {
     "data": {
      "text/plain": [
       "<tf.Tensor: shape=(1, 1), dtype=int32, numpy=array([[10]])>"
      ]
     },
     "execution_count": 50,
     "metadata": {},
     "output_type": "execute_result"
    }
   ],
   "source": [
    "matrix_u = tf.constant([[1,2,3]])\n",
    "matrix_v = tf.constant([[3,2,1]])\n",
    "tf.matmul(matrix_u, tf.transpose(matrix_v))"
   ]
  },
  {
   "cell_type": "markdown",
   "id": "f6015b5c",
   "metadata": {},
   "source": [
    "# Casting a tensor to another data type"
   ]
  },
  {
   "cell_type": "code",
   "execution_count": 51,
   "id": "f7387b8f",
   "metadata": {},
   "outputs": [
    {
     "data": {
      "text/plain": [
       "<tf.Tensor: shape=(2, 6), dtype=int32, numpy=\n",
       "array([[1, 2, 3, 2, 3, 4],\n",
       "       [2, 3, 4, 3, 4, 5]])>"
      ]
     },
     "execution_count": 51,
     "metadata": {},
     "output_type": "execute_result"
    }
   ],
   "source": [
    "i = tf.cast(tensor1, dtype = tf.int32)\n",
    "i"
   ]
  },
  {
   "cell_type": "code",
   "execution_count": 52,
   "id": "999db9df",
   "metadata": {},
   "outputs": [
    {
     "data": {
      "text/plain": [
       "<tf.Tensor: shape=(), dtype=int32, numpy=4>"
      ]
     },
     "execution_count": 52,
     "metadata": {},
     "output_type": "execute_result"
    }
   ],
   "source": [
    "j = tf.cast(tf.constant(4.9), dtype = tf.int32)\n",
    "j"
   ]
  },
  {
   "cell_type": "markdown",
   "id": "6c10490e",
   "metadata": {},
   "source": [
    "# Ragged Tensor\n",
    "\n",
    "A ragged tensor is a tensor having one or more ragged dimensions. They are having slices of different dimensions."
   ]
  },
  {
   "cell_type": "code",
   "execution_count": 53,
   "id": "cd366b3d",
   "metadata": {},
   "outputs": [
    {
     "data": {
      "text/plain": [
       "<tf.RaggedTensor [[1, 2, 3, 4], [1, 2, 3], [1, 2], [], [2, 3, 4, 5, 6, 7]]>"
      ]
     },
     "execution_count": 53,
     "metadata": {},
     "output_type": "execute_result"
    }
   ],
   "source": [
    "ragged = tf.ragged.constant([[1,2,3,4], [1,2,3], [1,2], [], [2,3,4,5,6,7]])\n",
    "ragged"
   ]
  },
  {
   "cell_type": "code",
   "execution_count": 54,
   "id": "d55adb25",
   "metadata": {},
   "outputs": [
    {
     "name": "stdout",
     "output_type": "stream",
     "text": [
      "<tf.RaggedTensor [[1, 2, 3, 4], [1, 2, 3], [1, 2], [], [2, 3, 4, 5, 6, 7]]>\n",
      "<tf.RaggedTensor [[1, 2, 3], [1, 2], [], [2, 3, 4, 5, 6, 7]]>\n",
      "<tf.RaggedTensor [[1, 2], [], [2, 3, 4, 5, 6, 7]]>\n",
      "<tf.RaggedTensor [[], [2, 3, 4, 5, 6, 7]]>\n",
      "<tf.RaggedTensor [[2, 3, 4, 5, 6, 7]]>\n"
     ]
    }
   ],
   "source": [
    "print(ragged[0:])\n",
    "print(ragged[1:])\n",
    "print(ragged[2:])\n",
    "print(ragged[3:])\n",
    "print(ragged[4:])"
   ]
  },
  {
   "cell_type": "code",
   "execution_count": 55,
   "id": "444eb553",
   "metadata": {},
   "outputs": [
    {
     "name": "stdout",
     "output_type": "stream",
     "text": [
      "tf.Tensor([1 2 3 4], shape=(4,), dtype=int32)\n",
      "tf.Tensor([1 2 3], shape=(3,), dtype=int32)\n",
      "tf.Tensor([1 2], shape=(2,), dtype=int32)\n",
      "tf.Tensor([], shape=(0,), dtype=int32)\n",
      "tf.Tensor([2 3 4 5 6 7], shape=(6,), dtype=int32)\n"
     ]
    }
   ],
   "source": [
    "print(ragged[0,:])\n",
    "print(ragged[1,:])\n",
    "print(ragged[2,:])\n",
    "print(ragged[3,:])\n",
    "print(ragged[4,:])"
   ]
  },
  {
   "cell_type": "markdown",
   "id": "f067918f",
   "metadata": {},
   "source": [
    "# Squared difference of tensors"
   ]
  },
  {
   "cell_type": "code",
   "execution_count": 56,
   "id": "fce4dbdc",
   "metadata": {},
   "outputs": [
    {
     "data": {
      "text/plain": [
       "<tf.Tensor: shape=(4,), dtype=int32, numpy=array([1, 0, 4, 9])>"
      ]
     },
     "execution_count": 56,
     "metadata": {},
     "output_type": "execute_result"
    }
   ],
   "source": [
    "varx = [4,5,3,2]\n",
    "vary = 5\n",
    "varz = tf.math.squared_difference(varx, vary)\n",
    "varz"
   ]
  },
  {
   "cell_type": "markdown",
   "id": "94b1b158",
   "metadata": {},
   "source": [
    "# Calculate the mean"
   ]
  },
  {
   "cell_type": "code",
   "execution_count": 57,
   "id": "07929e43",
   "metadata": {},
   "outputs": [
    {
     "data": {
      "text/plain": [
       "<tf.Tensor: shape=(2, 2), dtype=int32, numpy=\n",
       "array([[1, 2],\n",
       "       [3, 4]])>"
      ]
     },
     "execution_count": 57,
     "metadata": {},
     "output_type": "execute_result"
    }
   ],
   "source": [
    "#Defining a constant\n",
    "\n",
    "numbers = tf.constant([[1,2], [3,4]])\n",
    "numbers"
   ]
  },
  {
   "cell_type": "code",
   "execution_count": 58,
   "id": "cb67670f",
   "metadata": {},
   "outputs": [
    {
     "data": {
      "text/plain": [
       "<tf.Tensor: shape=(), dtype=int32, numpy=2>"
      ]
     },
     "execution_count": 58,
     "metadata": {},
     "output_type": "execute_result"
    }
   ],
   "source": [
    "#Calculating mean across all axis\n",
    "tf.reduce_mean(input_tensor = numbers)"
   ]
  },
  {
   "cell_type": "code",
   "execution_count": 59,
   "id": "f3219dfc",
   "metadata": {},
   "outputs": [
    {
     "data": {
      "text/plain": [
       "<tf.Tensor: shape=(2,), dtype=int32, numpy=array([2, 3])>"
      ]
     },
     "execution_count": 59,
     "metadata": {},
     "output_type": "execute_result"
    }
   ],
   "source": [
    "#Calculating mean across columns\n",
    "\n",
    "tf.reduce_mean(input_tensor = numbers,axis = 0)"
   ]
  },
  {
   "cell_type": "code",
   "execution_count": 60,
   "id": "243f6ca5",
   "metadata": {},
   "outputs": [
    {
     "data": {
      "text/plain": [
       "<tf.Tensor: shape=(1, 2), dtype=int32, numpy=array([[2, 3]])>"
      ]
     },
     "execution_count": 60,
     "metadata": {},
     "output_type": "execute_result"
    }
   ],
   "source": [
    "#When using Keepdims = True\n",
    "\n",
    "tf.reduce_mean(input_tensor = numbers, axis = 0, keepdims = True)"
   ]
  },
  {
   "cell_type": "code",
   "execution_count": 61,
   "id": "4781ba97",
   "metadata": {},
   "outputs": [
    {
     "data": {
      "text/plain": [
       "<tf.Tensor: shape=(2,), dtype=int32, numpy=array([1, 3])>"
      ]
     },
     "execution_count": 61,
     "metadata": {},
     "output_type": "execute_result"
    }
   ],
   "source": [
    "# Calculating mean across rows\n",
    "\n",
    "tf.reduce_mean(input_tensor = numbers, axis = 1)"
   ]
  },
  {
   "cell_type": "code",
   "execution_count": 62,
   "id": "6f8aa739",
   "metadata": {},
   "outputs": [
    {
     "data": {
      "text/plain": [
       "<tf.Tensor: shape=(2, 1), dtype=int32, numpy=\n",
       "array([[1],\n",
       "       [3]])>"
      ]
     },
     "execution_count": 62,
     "metadata": {},
     "output_type": "execute_result"
    }
   ],
   "source": [
    "# Calculating mean when keepdims = True\n",
    "\n",
    "tf.reduce_mean(input_tensor = numbers, axis = 1, keepdims= True)"
   ]
  },
  {
   "cell_type": "markdown",
   "id": "aec39084",
   "metadata": {},
   "source": [
    "# Finding the indices of largest and smallest element"
   ]
  },
  {
   "cell_type": "code",
   "execution_count": 63,
   "id": "5a680aeb",
   "metadata": {},
   "outputs": [
    {
     "name": "stdout",
     "output_type": "stream",
     "text": [
      "tf.Tensor([ 2  3  4  5  6 73  8  9  0 23], shape=(10,), dtype=int32)\n",
      "Index of maximum 5\n",
      "Maximum_value 73\n",
      "Index of minimum 8\n",
      "Minimum_value 0\n"
     ]
    }
   ],
   "source": [
    "tensor_1d = tf.constant([2,3,4,5,6,73,8,9,0,23])\n",
    "print(tensor_1d)\n",
    "\n",
    "i = tf.argmax(input = tensor_1d)\n",
    "print(\"Index of maximum {}\".format(i))\n",
    "print(\"Maximum_value {}\".format(tensor_1d[i].numpy()))\n",
    "\n",
    "\n",
    "j = tf.argmin(input = tensor_1d)\n",
    "print(\"Index of minimum {}\".format(j))\n",
    "print(\"Minimum_value {}\".format(tensor_1d[j].numpy()))"
   ]
  },
  {
   "cell_type": "markdown",
   "id": "9fc64652",
   "metadata": {},
   "source": [
    "# Saving and storing using checkpoint"
   ]
  },
  {
   "cell_type": "code",
   "execution_count": 64,
   "id": "aacae513",
   "metadata": {},
   "outputs": [
    {
     "name": "stdout",
     "output_type": "stream",
     "text": [
      "<tf.Variable 'Variable:0' shape=(2, 4) dtype=int32, numpy=\n",
      "array([[1, 3, 4, 5],\n",
      "       [2, 3, 4, 5]])>\n"
     ]
    }
   ],
   "source": [
    "variable1 = tf.Variable([[1,3,4,5], [2,3,4,5]])\n",
    "checkpoint = tf.train.Checkpoint(var = variable1) #creating the checkpoint\n",
    "savepath = checkpoint.save('./vars') #saving the checkpoint\n",
    "variable1.assign([[0,0,0,0], [0,0,0,0]])\n",
    "checkpoint.restore(savepath) # to get back the data from the ckeckpoint\n",
    "print(variable1)"
   ]
  },
  {
   "cell_type": "code",
   "execution_count": 65,
   "id": "afd0a1bb",
   "metadata": {},
   "outputs": [],
   "source": [
    "def f1(x, y):\n",
    "    return tf.reduce_mean(input_tensor = tf.multiply(x ** 3,  6)+y**3)"
   ]
  },
  {
   "cell_type": "code",
   "execution_count": 66,
   "id": "b469796b",
   "metadata": {},
   "outputs": [
    {
     "data": {
      "text/plain": [
       "<function __main__.f1(x, y)>"
      ]
     },
     "execution_count": 66,
     "metadata": {},
     "output_type": "execute_result"
    }
   ],
   "source": [
    "f1"
   ]
  },
  {
   "cell_type": "code",
   "execution_count": 67,
   "id": "399273aa",
   "metadata": {},
   "outputs": [
    {
     "data": {
      "text/plain": [
       "<tf.Tensor: shape=(), dtype=int32, numpy=509>"
      ]
     },
     "execution_count": 67,
     "metadata": {},
     "output_type": "execute_result"
    }
   ],
   "source": [
    "f1(4,5)"
   ]
  },
  {
   "cell_type": "code",
   "execution_count": 68,
   "id": "5537a8dd",
   "metadata": {},
   "outputs": [
    {
     "data": {
      "text/plain": [
       "<tensorflow.python.eager.def_function.Function at 0x198983831c0>"
      ]
     },
     "execution_count": 68,
     "metadata": {},
     "output_type": "execute_result"
    }
   ],
   "source": [
    "func = tf.function(f1)\n",
    "func"
   ]
  },
  {
   "cell_type": "code",
   "execution_count": 69,
   "id": "b1f82183",
   "metadata": {},
   "outputs": [
    {
     "name": "stdout",
     "output_type": "stream",
     "text": [
      "612\n",
      "612\n"
     ]
    }
   ],
   "source": [
    "x = tf.constant([4,5])\n",
    "y = tf.constant([3,4])\n",
    "print(f1(x,y).numpy())\n",
    "print(func(x, y).numpy())\n",
    "#f1 and func return the same value, but func executes a tensorflow graph."
   ]
  },
  {
   "cell_type": "code",
   "execution_count": 70,
   "id": "56f34af4",
   "metadata": {},
   "outputs": [],
   "source": [
    "assert f1(x,y).numpy() == func(x,y).numpy()"
   ]
  },
  {
   "cell_type": "code",
   "execution_count": 87,
   "id": "73538506",
   "metadata": {},
   "outputs": [
    {
     "name": "stdout",
     "output_type": "stream",
     "text": [
      "tf.Tensor(0.6, shape=(), dtype=float32)\n"
     ]
    }
   ],
   "source": [
    "a = tf.constant(3.)\n",
    "b = tf.constant(4.)\n",
    "with tf.GradientTape() as tape:\n",
    "    tape.watch(a)\n",
    "    c = tf.sqrt(tf.square(a) + tf.square(b))\n",
    "    dc_da = tape.gradient(c,a)\n",
    "    print(dc_da)\n",
    "    \n",
    "    "
   ]
  },
  {
   "cell_type": "code",
   "execution_count": 76,
   "id": "d941c09c",
   "metadata": {},
   "outputs": [
    {
     "name": "stdout",
     "output_type": "stream",
     "text": [
      "None\n"
     ]
    }
   ],
   "source": [
    "a = tf.random.normal(shape = (2,2))\n",
    "b = tf.random.normal(shape = (2,2))\n",
    "with tf.GradientTape() as tape:\n",
    "    c = tf.sqrt(tf.square(a) + tf.square(b))\n",
    "    dc_da = tape.gradient(c,a)\n",
    "    print(dc_da)"
   ]
  },
  {
   "cell_type": "markdown",
   "id": "d59f41ee",
   "metadata": {},
   "source": [
    "# Loading the data"
   ]
  },
  {
   "cell_type": "code",
   "execution_count": 88,
   "id": "804dbac6",
   "metadata": {},
   "outputs": [],
   "source": [
    "mnist = tf.keras.datasets.mnist"
   ]
  },
  {
   "cell_type": "code",
   "execution_count": 94,
   "id": "18cb1404",
   "metadata": {},
   "outputs": [],
   "source": [
    "(train_x, train_y), (test_x, test_y) = mnist.load_data()"
   ]
  },
  {
   "cell_type": "code",
   "execution_count": 98,
   "id": "c1e6237b",
   "metadata": {},
   "outputs": [
    {
     "name": "stdout",
     "output_type": "stream",
     "text": [
      "(60000, 28, 28)\n",
      "(60000,)\n",
      "(10000, 28, 28)\n",
      "(10000,)\n"
     ]
    }
   ],
   "source": [
    "print(train_x.shape)\n",
    "print(train_y.shape)\n",
    "print(test_x.shape)\n",
    "print(test_y.shape)"
   ]
  },
  {
   "cell_type": "markdown",
   "id": "2eb2a0c2",
   "metadata": {},
   "source": [
    "# Defining the variables"
   ]
  },
  {
   "cell_type": "code",
   "execution_count": 100,
   "id": "1f691613",
   "metadata": {},
   "outputs": [],
   "source": [
    "epochs = 10\n",
    "batch_size = 32"
   ]
  },
  {
   "cell_type": "code",
   "execution_count": 101,
   "id": "1430b4d8",
   "metadata": {},
   "outputs": [],
   "source": [
    "train_x, test_x = tf.cast(train_x/255., dtype = tf.float32), tf.cast(test_x/255., dtype = tf.float32)\n",
    "train_y, test_y = tf.cast(train_y, tf.int64),tf.cast(test_y, tf.int64) "
   ]
  },
  {
   "cell_type": "markdown",
   "id": "ac3e8899",
   "metadata": {},
   "source": [
    "# Building the architecture"
   ]
  },
  {
   "cell_type": "code",
   "execution_count": 136,
   "id": "e13621d1",
   "metadata": {},
   "outputs": [],
   "source": [
    "mnistmodel1 = tf.keras.models.Sequential([\n",
    "    tf.keras.layers.Flatten(),\n",
    "    tf.keras.layers.Dense(512, activation = tf.nn.relu),\n",
    "    tf.keras.layers.Dropout(0.2),\n",
    "    tf.keras.layers.Dense(10, activation = tf.nn.softmax)\n",
    "])"
   ]
  },
  {
   "cell_type": "markdown",
   "id": "903eaaf9",
   "metadata": {},
   "source": [
    "# Compiling the model"
   ]
  },
  {
   "cell_type": "code",
   "execution_count": 138,
   "id": "9e6e60ad",
   "metadata": {},
   "outputs": [],
   "source": [
    "optimiser = tf.keras.optimizers.Adam()\n",
    "mnistmodel1.compile(optimizer = optimiser, loss = \"sparse_categorical_crossentropy\", metrics = ['accuracy'])"
   ]
  },
  {
   "cell_type": "markdown",
   "id": "2abbb3b5",
   "metadata": {},
   "source": [
    "# Fitting the model\n"
   ]
  },
  {
   "cell_type": "code",
   "execution_count": 139,
   "id": "676fe8f6",
   "metadata": {},
   "outputs": [
    {
     "name": "stdout",
     "output_type": "stream",
     "text": [
      "Epoch 1/10\n",
      "1875/1875 [==============================] - 34s 17ms/step - loss: 0.2185 - accuracy: 0.9352\n",
      "Epoch 2/10\n",
      "1875/1875 [==============================] - 31s 17ms/step - loss: 0.0964 - accuracy: 0.9704\n",
      "Epoch 3/10\n",
      "1875/1875 [==============================] - 34s 18ms/step - loss: 0.0701 - accuracy: 0.97800s - loss: 0.0\n",
      "Epoch 4/10\n",
      "1875/1875 [==============================] - 33s 18ms/step - loss: 0.0543 - accuracy: 0.98241s -\n",
      "Epoch 5/10\n",
      "1875/1875 [==============================] - 52s 28ms/step - loss: 0.0430 - accuracy: 0.9851\n",
      "Epoch 6/10\n",
      "1875/1875 [==============================] - 33s 18ms/step - loss: 0.0354 - accuracy: 0.9886\n",
      "Epoch 7/10\n",
      "1875/1875 [==============================] - 32s 17ms/step - loss: 0.0305 - accuracy: 0.9895\n",
      "Epoch 8/10\n",
      "1875/1875 [==============================] - 46s 25ms/step - loss: 0.0284 - accuracy: 0.9905\n",
      "Epoch 9/10\n",
      "1875/1875 [==============================] - 42s 22ms/step - loss: 0.0241 - accuracy: 0.9915\n",
      "Epoch 10/10\n",
      "1875/1875 [==============================] - 38s 20ms/step - loss: 0.0226 - accuracy: 0.9921\n"
     ]
    },
    {
     "data": {
      "text/plain": [
       "<keras.callbacks.History at 0x198a1009be0>"
      ]
     },
     "execution_count": 139,
     "metadata": {},
     "output_type": "execute_result"
    }
   ],
   "source": [
    "mnistmodel1.fit(train_x, train_y, batch_size = 32, epochs = 10)"
   ]
  },
  {
   "cell_type": "markdown",
   "id": "6639a85a",
   "metadata": {},
   "source": [
    "# Evaluating the model"
   ]
  },
  {
   "cell_type": "code",
   "execution_count": 140,
   "id": "c945d8b6",
   "metadata": {},
   "outputs": [
    {
     "name": "stdout",
     "output_type": "stream",
     "text": [
      "313/313 [==============================] - 3s 9ms/step - loss: 0.0692 - accuracy: 0.9826\n"
     ]
    },
    {
     "data": {
      "text/plain": [
       "[0.06921660155057907, 0.9825999736785889]"
      ]
     },
     "execution_count": 140,
     "metadata": {},
     "output_type": "execute_result"
    }
   ],
   "source": [
    "mnistmodel1.evaluate(test_x, test_y)"
   ]
  },
  {
   "cell_type": "markdown",
   "id": "1c784df8",
   "metadata": {},
   "source": [
    "# Saving the model\n",
    "\n"
   ]
  },
  {
   "cell_type": "code",
   "execution_count": 149,
   "id": "9f5e5d6a",
   "metadata": {},
   "outputs": [
    {
     "name": "stdout",
     "output_type": "stream",
     "text": [
      "INFO:tensorflow:Assets written to: C:\\Users\\Hp\\Desktop\\Untitled Folder 4\\assets\n"
     ]
    }
   ],
   "source": [
    "tf.saved_model.save(mnistmodel1, export_dir =\"C:\\\\Users\\\\Hp\\\\Desktop\\\\Untitled Folder 4\")"
   ]
  },
  {
   "cell_type": "code",
   "execution_count": null,
   "id": "7ef3f764",
   "metadata": {},
   "outputs": [],
   "source": []
  }
 ],
 "metadata": {
  "kernelspec": {
   "display_name": "Python 3 (ipykernel)",
   "language": "python",
   "name": "python3"
  },
  "language_info": {
   "codemirror_mode": {
    "name": "ipython",
    "version": 3
   },
   "file_extension": ".py",
   "mimetype": "text/x-python",
   "name": "python",
   "nbconvert_exporter": "python",
   "pygments_lexer": "ipython3",
   "version": "3.9.6"
  }
 },
 "nbformat": 4,
 "nbformat_minor": 5
}
